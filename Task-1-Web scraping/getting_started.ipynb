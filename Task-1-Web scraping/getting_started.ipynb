{
 "cells": [
  {
   "cell_type": "markdown",
   "metadata": {},
   "source": [
    "# Task 1\n",
    "\n",
    "---\n",
    "\n",
    "## Web scraping and analysis\n",
    "\n",
    "This Jupyter notebook includes some code to get you started with web scraping. We will use a package called `BeautifulSoup` to collect the data from the web. Once you've collected your data and saved it into a local `.csv` file you should start with your analysis.\n",
    "\n",
    "### Scraping data from Skytrax\n",
    "\n",
    "If you visit [https://www.airlinequality.com] you can see that there is a lot of data there. For this task, we are only interested in reviews related to British Airways and the Airline itself.\n",
    "\n",
    "If you navigate to this link: [https://www.airlinequality.com/airline-reviews/british-airways] you will see this data. Now, we can use `Python` and `BeautifulSoup` to collect all the links to the reviews and then to collect the text data on each of the individual review links."
   ]
  },
  {
   "cell_type": "code",
   "execution_count": 91,
   "metadata": {},
   "outputs": [],
   "source": [
    "import requests\n",
    "from bs4 import BeautifulSoup\n",
    "import pandas as pd"
   ]
  },
  {
   "cell_type": "code",
   "execution_count": 92,
   "metadata": {},
   "outputs": [],
   "source": [
    "base_url = \"https://www.airlinequality.com/airline-reviews/british-airways\"\n",
    "pages = 10\n",
    "page_size = 100\n",
    "\n",
    "url = f\"{base_url}/page/{1}/?sortby=post_date%3ADesc&pagesize={page_size}\"\n",
    "\n",
    "# Collect HTML data from this page\n",
    "response = requests.get(url)\n",
    "\n",
    "# Parse content\n",
    "content = response.content\n",
    "parsed_content = BeautifulSoup(content, 'html.parser')\n",
    "    \n",
    "\n",
    "\n"
   ]
  },
  {
   "cell_type": "code",
   "execution_count": 93,
   "metadata": {},
   "outputs": [],
   "source": [
    "def safe_find_all_stars(tag, clas):\n",
    "    f_child = tag.find('td', class_ = clas)\n",
    "    return len(f_child.find_next_sibling().find_all('span', class_ = 'star fill')) if f_child else pd.NA\n",
    "\n",
    "def safe_find_next_sibling(tag, clas):\n",
    "    f_child = tag.find('td', class_ = clas)\n",
    "    return f_child.find_next_sibling().get_text() if f_child else pd.NA\n",
    "\n",
    "\n",
    "columns = ['name', 'header', 'time', 'text_reviow', 'Aircraft', 'Traveller', 'Seat_Type', 'Route',\n",
    "           'Date_Flown', 'star_reting_aircraft', 'star_reting_Food', 'star_reting_Inflight', 'star_reting_Ground_Service',\n",
    "           'star_reting_Wifi', 'star_reting_Value_For_Money', 'recommended']\n",
    "\n",
    "review_ration_catagory = ['review-rating-header aircraft', 'review-rating-header type_of_traveller', 'review-rating-header cabin_flown', 'review-rating-header route', 'review-rating-header date_flown']\n",
    "review_ration_stars = ['review-rating-header cabin_staff_service', 'review-rating-header food_and_beverages', \n",
    "'review-rating-header inflight_entertainment', 'review-rating-header ground_service', 'review-rating-header wifi_and_connectivity', 'review-rating-header value_for_money']\n",
    "\n",
    "reviews = pd.DataFrame(columns= columns)\n",
    "\n",
    "\n",
    "bodys = parsed_content.find_all(\"div\", {\"class\": \"body\"})\n",
    "for i, body in enumerate(bodys):\n",
    "    row = []\n",
    "    row.append(body.find('span', itemprop = 'name').get_text())\n",
    "    row.append(body.find('h2', class_ = 'text_header').get_text())\n",
    "    row.append(body.find('time', itemprop = 'datePublished').get('datetime'))\n",
    "    row.append(body.find('div', class_ = 'text_content').get_text())\n",
    "    \n",
    "    for j in review_ration_catagory:\n",
    "        row.append(safe_find_next_sibling(body, j))\n",
    "\n",
    "    for j in review_ration_stars:\n",
    "        row.append(safe_find_all_stars(body, j))\n",
    "    \n",
    "    row.append(body.find('td', class_ = 'review-rating-header recommended').find_next_sibling('td').get_text())\n",
    "    \n",
    "    reviews.loc[len(reviews)] = row # type: ignore"
   ]
  },
  {
   "cell_type": "code",
   "execution_count": 94,
   "metadata": {},
   "outputs": [
    {
     "data": {
      "text/html": [
       "<div>\n",
       "<style scoped>\n",
       "    .dataframe tbody tr th:only-of-type {\n",
       "        vertical-align: middle;\n",
       "    }\n",
       "\n",
       "    .dataframe tbody tr th {\n",
       "        vertical-align: top;\n",
       "    }\n",
       "\n",
       "    .dataframe thead th {\n",
       "        text-align: right;\n",
       "    }\n",
       "</style>\n",
       "<table border=\"1\" class=\"dataframe\">\n",
       "  <thead>\n",
       "    <tr style=\"text-align: right;\">\n",
       "      <th></th>\n",
       "      <th>name</th>\n",
       "      <th>header</th>\n",
       "      <th>time</th>\n",
       "      <th>text_reviow</th>\n",
       "      <th>Aircraft</th>\n",
       "      <th>Traveller</th>\n",
       "      <th>Seat_Type</th>\n",
       "      <th>Route</th>\n",
       "      <th>Date_Flown</th>\n",
       "      <th>star_reting_aircraft</th>\n",
       "      <th>star_reting_Food</th>\n",
       "      <th>star_reting_Inflight</th>\n",
       "      <th>star_reting_Ground_Service</th>\n",
       "      <th>star_reting_Wifi</th>\n",
       "      <th>star_reting_Value_For_Money</th>\n",
       "      <th>recommended</th>\n",
       "    </tr>\n",
       "  </thead>\n",
       "  <tbody>\n",
       "    <tr>\n",
       "      <th>0</th>\n",
       "      <td>S Brydon</td>\n",
       "      <td>\"Great customer service\"</td>\n",
       "      <td>2023-08-19</td>\n",
       "      <td>✅ Trip Verified |  My family flew from Washing...</td>\n",
       "      <td>A380</td>\n",
       "      <td>Family Leisure</td>\n",
       "      <td>Economy Class</td>\n",
       "      <td>Washington to London</td>\n",
       "      <td>August 2023</td>\n",
       "      <td>5</td>\n",
       "      <td>3</td>\n",
       "      <td>2</td>\n",
       "      <td>1</td>\n",
       "      <td>&lt;NA&gt;</td>\n",
       "      <td>4</td>\n",
       "      <td>yes</td>\n",
       "    </tr>\n",
       "  </tbody>\n",
       "</table>\n",
       "</div>"
      ],
      "text/plain": [
       "       name                    header        time  \\\n",
       "0  S Brydon  \"Great customer service\"  2023-08-19   \n",
       "\n",
       "                                         text_reviow Aircraft       Traveller  \\\n",
       "0  ✅ Trip Verified |  My family flew from Washing...     A380  Family Leisure   \n",
       "\n",
       "       Seat_Type                 Route   Date_Flown star_reting_aircraft  \\\n",
       "0  Economy Class  Washington to London  August 2023                    5   \n",
       "\n",
       "  star_reting_Food star_reting_Inflight star_reting_Ground_Service  \\\n",
       "0                3                    2                          1   \n",
       "\n",
       "  star_reting_Wifi  star_reting_Value_For_Money recommended  \n",
       "0             <NA>                            4         yes  "
      ]
     },
     "execution_count": 94,
     "metadata": {},
     "output_type": "execute_result"
    }
   ],
   "source": [
    "reviews.head(1)"
   ]
  },
  {
   "cell_type": "markdown",
   "metadata": {},
   "source": [
    "### Chacking noumbers of route present in the data"
   ]
  },
  {
   "cell_type": "code",
   "execution_count": 95,
   "metadata": {},
   "outputs": [
    {
     "data": {
      "text/plain": [
       "93"
      ]
     },
     "execution_count": 95,
     "metadata": {},
     "output_type": "execute_result"
    }
   ],
   "source": [
    "reviews['Route'].nunique()"
   ]
  },
  {
   "cell_type": "markdown",
   "metadata": {},
   "source": [
    "Note: found 93 out of 100\n",
    "### deviding Route in to two columns \"From\" and \"To\""
   ]
  },
  {
   "cell_type": "code",
   "execution_count": 96,
   "metadata": {},
   "outputs": [],
   "source": [
    "\n",
    "split_route = reviews['Route'].str.split(' to ', expand=True)\n",
    "reviews.insert(7, 'From', split_route[0])\n",
    "reviews.insert(8, 'To', split_route[1])"
   ]
  },
  {
   "cell_type": "code",
   "execution_count": 97,
   "metadata": {},
   "outputs": [],
   "source": [
    "def extract_verification(text):\n",
    "    if '✅ Trip Verified | ' in text:\n",
    "        return 1, text.replace('✅ Trip Verified | ', '')\n",
    "    elif 'Not Verified | ' in text:\n",
    "        return 0, text.replace('Not Verified | ', '')\n",
    "    else:\n",
    "        return None, text\n",
    "\n",
    "reviews.insert(3, 'Verified', reviews['text_reviow'].apply(lambda x: extract_verification(x)[0]))\n",
    "reviews['text_reviow'] = reviews['text_reviow'].apply(lambda x: extract_verification(x)[0])"
   ]
  },
  {
   "cell_type": "code",
   "execution_count": 98,
   "metadata": {},
   "outputs": [
    {
     "data": {
      "text/html": [
       "<div>\n",
       "<style scoped>\n",
       "    .dataframe tbody tr th:only-of-type {\n",
       "        vertical-align: middle;\n",
       "    }\n",
       "\n",
       "    .dataframe tbody tr th {\n",
       "        vertical-align: top;\n",
       "    }\n",
       "\n",
       "    .dataframe thead th {\n",
       "        text-align: right;\n",
       "    }\n",
       "</style>\n",
       "<table border=\"1\" class=\"dataframe\">\n",
       "  <thead>\n",
       "    <tr style=\"text-align: right;\">\n",
       "      <th></th>\n",
       "      <th>name</th>\n",
       "      <th>header</th>\n",
       "      <th>time</th>\n",
       "      <th>Verified</th>\n",
       "      <th>text_reviow</th>\n",
       "      <th>Aircraft</th>\n",
       "      <th>Traveller</th>\n",
       "      <th>Seat_Type</th>\n",
       "      <th>From</th>\n",
       "      <th>To</th>\n",
       "      <th>Route</th>\n",
       "      <th>Date_Flown</th>\n",
       "      <th>star_reting_aircraft</th>\n",
       "      <th>star_reting_Food</th>\n",
       "      <th>star_reting_Inflight</th>\n",
       "      <th>star_reting_Ground_Service</th>\n",
       "      <th>star_reting_Wifi</th>\n",
       "      <th>star_reting_Value_For_Money</th>\n",
       "      <th>recommended</th>\n",
       "    </tr>\n",
       "  </thead>\n",
       "  <tbody>\n",
       "    <tr>\n",
       "      <th>0</th>\n",
       "      <td>S Brydon</td>\n",
       "      <td>\"Great customer service\"</td>\n",
       "      <td>2023-08-19</td>\n",
       "      <td>1.0</td>\n",
       "      <td>1.0</td>\n",
       "      <td>A380</td>\n",
       "      <td>Family Leisure</td>\n",
       "      <td>Economy Class</td>\n",
       "      <td>Washington</td>\n",
       "      <td>London</td>\n",
       "      <td>Washington to London</td>\n",
       "      <td>August 2023</td>\n",
       "      <td>5</td>\n",
       "      <td>3</td>\n",
       "      <td>2</td>\n",
       "      <td>1</td>\n",
       "      <td>&lt;NA&gt;</td>\n",
       "      <td>4</td>\n",
       "      <td>yes</td>\n",
       "    </tr>\n",
       "    <tr>\n",
       "      <th>1</th>\n",
       "      <td>E Smyth</td>\n",
       "      <td>\"Cabin crew were all fantastic\"</td>\n",
       "      <td>2023-08-13</td>\n",
       "      <td>1.0</td>\n",
       "      <td>1.0</td>\n",
       "      <td>A380</td>\n",
       "      <td>Family Leisure</td>\n",
       "      <td>Business Class</td>\n",
       "      <td>London</td>\n",
       "      <td>Miami</td>\n",
       "      <td>London to Miami</td>\n",
       "      <td>August 2023</td>\n",
       "      <td>5</td>\n",
       "      <td>5</td>\n",
       "      <td>5</td>\n",
       "      <td>4</td>\n",
       "      <td>5</td>\n",
       "      <td>4</td>\n",
       "      <td>yes</td>\n",
       "    </tr>\n",
       "  </tbody>\n",
       "</table>\n",
       "</div>"
      ],
      "text/plain": [
       "       name                           header        time  Verified  \\\n",
       "0  S Brydon         \"Great customer service\"  2023-08-19       1.0   \n",
       "1   E Smyth  \"Cabin crew were all fantastic\"  2023-08-13       1.0   \n",
       "\n",
       "   text_reviow Aircraft       Traveller       Seat_Type        From      To  \\\n",
       "0          1.0     A380  Family Leisure   Economy Class  Washington  London   \n",
       "1          1.0     A380  Family Leisure  Business Class      London   Miami   \n",
       "\n",
       "                  Route   Date_Flown star_reting_aircraft star_reting_Food  \\\n",
       "0  Washington to London  August 2023                    5                3   \n",
       "1       London to Miami  August 2023                    5                5   \n",
       "\n",
       "  star_reting_Inflight star_reting_Ground_Service star_reting_Wifi  \\\n",
       "0                    2                          1             <NA>   \n",
       "1                    5                          4                5   \n",
       "\n",
       "   star_reting_Value_For_Money recommended  \n",
       "0                            4         yes  \n",
       "1                            4         yes  "
      ]
     },
     "execution_count": 98,
     "metadata": {},
     "output_type": "execute_result"
    }
   ],
   "source": [
    "reviews.head(2)"
   ]
  },
  {
   "cell_type": "code",
   "execution_count": 108,
   "metadata": {},
   "outputs": [
    {
     "name": "stdout",
     "output_type": "stream",
     "text": [
      "------------ Verified mean of stars ------------\n",
      " star_reting_aircraft           2.924242\n",
      "star_reting_Food               2.471698\n",
      "star_reting_Inflight           2.585366\n",
      "star_reting_Ground_Service          2.0\n",
      "star_reting_Wifi               1.964286\n",
      "star_reting_Value_For_Money    1.902778\n",
      "dtype: object \n",
      "------------ Non-verified mean of stars ------------\n",
      " star_reting_aircraft               2.76\n",
      "star_reting_Food               1.954545\n",
      "star_reting_Inflight                2.4\n",
      "star_reting_Ground_Service         2.08\n",
      "star_reting_Wifi               1.285714\n",
      "star_reting_Value_For_Money    1.576923\n",
      "dtype: object \n",
      "------------ Over all mean of stars ------------\n",
      " star_reting_aircraft           2.870968\n",
      "star_reting_Food               2.311688\n",
      "star_reting_Inflight           2.508772\n",
      "star_reting_Ground_Service          2.0\n",
      "star_reting_Wifi                1.72093\n",
      "star_reting_Value_For_Money         1.8\n",
      "dtype: object\n"
     ]
    }
   ],
   "source": [
    "# ---\n",
    "stars_columns = ['star_reting_aircraft',\t'star_reting_Food', 'star_reting_Inflight',\t'star_reting_Ground_Service',\t'star_reting_Wifi',\t'star_reting_Value_For_Money']\n",
    "mean_of_stars_verified = reviews.loc[reviews['Verified']==1, stars_columns].mean()\n",
    "mean_of_stars_not_verified = reviews.loc[reviews['Verified']==0, stars_columns].mean()\n",
    "mean_of_stars = reviews.loc[:, stars_columns].mean()\n",
    "print('------------ Verified mean of stars ------------\\n',\n",
    "    verified_mean_of_stars, \n",
    "    '\\n------------ Non-verified mean of stars ------------\\n',\n",
    "    mean_of_stars_not_verified, \n",
    "    '\\n------------ Over all mean of stars ------------\\n',\n",
    "    mean_of_stars)\n"
   ]
  },
  {
   "cell_type": "markdown",
   "metadata": {},
   "source": [
    "Another patren is found that there batter review from the people verified then people are not, also over all the reviews are avarige "
   ]
  },
  {
   "cell_type": "code",
   "execution_count": null,
   "metadata": {},
   "outputs": [],
   "source": [
    "# df.to_csv(\"data/BA_reviews.csv\")"
   ]
  },
  {
   "cell_type": "markdown",
   "metadata": {},
   "source": [
    "Congratulations! Now you have your dataset for this task! The loops above collected 1000 reviews by iterating through the paginated pages on the website. However, if you want to collect more data, try increasing the number of pages!\n",
    "\n",
    " The next thing that you should do is clean this data to remove any unnecessary text from each of the rows. For example, \"✅ Trip Verified\" can be removed from each row if it exists, as it's not relevant to what we want to investigate."
   ]
  },
  {
   "cell_type": "code",
   "execution_count": null,
   "metadata": {},
   "outputs": [],
   "source": []
  }
 ],
 "metadata": {
  "kernelspec": {
   "display_name": "Python 3.9.13 ('venv': venv)",
   "language": "python",
   "name": "python3"
  },
  "language_info": {
   "codemirror_mode": {
    "name": "ipython",
    "version": 3
   },
   "file_extension": ".py",
   "mimetype": "text/x-python",
   "name": "python",
   "nbconvert_exporter": "python",
   "pygments_lexer": "ipython3",
   "version": "3.9.12"
  },
  "orig_nbformat": 4,
  "vscode": {
   "interpreter": {
    "hash": "4f7924c4c56b083e0e50eadfe7ef592a7a8ef70df33a0047f82280e6be1afe15"
   }
  }
 },
 "nbformat": 4,
 "nbformat_minor": 2
}
